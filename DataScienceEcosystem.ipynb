{
 "cells": [
  {
   "cell_type": "markdown",
   "id": "d9812051-3ea1-4877-982f-524d27ba2042",
   "metadata": {
    "tags": []
   },
   "source": [
    "# Data Science Tools and Ecosystem"
   ]
  },
  {
   "cell_type": "markdown",
   "id": "829c8c20-a0eb-4bb0-887a-a51bebcdcd6a",
   "metadata": {
    "tags": []
   },
   "source": [
    "# In this notebook, Data Science Tools and Ecosystem are summarized."
   ]
  },
  {
   "cell_type": "markdown",
   "id": "060763b0-8ea8-46ee-ad33-4a1d16596630",
   "metadata": {
    "tags": []
   },
   "source": [
    "\n",
    "Some of the popular languages that Data Scientists use are:\n",
    "\n",
    "1.SQL\n",
    "2.R\n",
    "3.Julia"
   ]
  },
  {
   "cell_type": "markdown",
   "id": "25e04487-d124-4b3f-80d9-09d60eea799e",
   "metadata": {
    "tags": []
   },
   "source": [
    "Some of the commonly used libraries used by data scientists are:\n",
    "\n",
    "1.NumPy\n",
    "2.Pandas\n",
    "3.Scikit-Learn\n"
   ]
  },
  {
   "cell_type": "markdown",
   "id": "d81651a8-9eb7-4459-9597-ed05250699a2",
   "metadata": {
    "tags": []
   },
   "source": [
    "# Data Science Tools\n",
    "\n",
    "| Tool Name     | Description                              |\n",
    "|---------------|------------------------------------------|\n",
    "| Python        | General-purpose programming language     |\n",
    "| R             | Statistical computing and graphics       |\n",
    "| Jupyter       | Interactive computing environment        |\n",
    "| SQL           | Query language for database systems      |\n",
    "| NumPy         | Library for numerical computations       |\n",
    "| Pandas        | Data manipulation and analysis           |\n",
    "| Scikit-Learn  | Machine learning library                 |\n",
    "| TensorFlow    | Deep learning framework                  |\n",
    "| Matplotlib    | Data visualization library               |\n",
    "| Tableau       | Data visualization and business intelligence |"
   ]
  },
  {
   "cell_type": "markdown",
   "id": "01dea5fd-58e2-4962-aa9b-16b6ca8cd582",
   "metadata": {},
   "source": [
    "### Below are few examples of evaluating arithmetic expressions in python"
   ]
  },
  {
   "cell_type": "markdown",
   "id": "b6ebee07-b137-4f16-9e0f-54c25b088458",
   "metadata": {
    "tags": []
   },
   "source": [
    "This is a simple Arithmetic Expression Examples \n"
   ]
  },
  {
   "cell_type": "code",
   "execution_count": 1,
   "id": "1fd15e9b-e3de-48b3-869a-eae3439251d6",
   "metadata": {
    "tags": []
   },
   "outputs": [
    {
     "data": {
      "text/plain": [
       "17"
      ]
     },
     "execution_count": 1,
     "metadata": {},
     "output_type": "execute_result"
    }
   ],
   "source": [
    "(3*4)+5"
   ]
  },
  {
   "cell_type": "markdown",
   "id": "4e9e2fcf-2b3b-407f-b981-a2a5ed8b6ca6",
   "metadata": {
    "tags": []
   },
   "source": [
    "This will convert 200 minutes into hours\n"
   ]
  },
  {
   "cell_type": "code",
   "execution_count": 2,
   "id": "4238084c-ada3-4ce5-a076-5357f434f625",
   "metadata": {
    "tags": []
   },
   "outputs": [
    {
     "name": "stdout",
     "output_type": "stream",
     "text": [
      "3.3333333333333335\n"
     ]
    }
   ],
   "source": [
    "hours=200/60\n",
    "print(hours)"
   ]
  },
  {
   "cell_type": "markdown",
   "id": "56368ce2-2899-4329-b869-bc0c48d04f41",
   "metadata": {
    "tags": []
   },
   "source": [
    "**Objectives:**\n",
    "\n",
    "# List popular languages for Data Science:\n",
    "  - Python\n",
    "  - R\n",
    "  - Julia\n",
    "  - Scala\n",
    "  - SQL"
   ]
  },
  {
   "cell_type": "markdown",
   "id": "50cef325-41d9-497d-b753-e8d0bf08558b",
   "metadata": {
    "tags": []
   },
   "source": [
    "## Author \n",
    "Sahbi Tritar"
   ]
  },
  {
   "cell_type": "code",
   "execution_count": null,
   "id": "9bea13a7-4853-475b-8033-bb7f507f6030",
   "metadata": {},
   "outputs": [],
   "source": []
  }
 ],
 "metadata": {
  "kernelspec": {
   "display_name": "Python",
   "language": "python",
   "name": "conda-env-python-py"
  },
  "language_info": {
   "codemirror_mode": {
    "name": "ipython",
    "version": 3
   },
   "file_extension": ".py",
   "mimetype": "text/x-python",
   "name": "python",
   "nbconvert_exporter": "python",
   "pygments_lexer": "ipython3",
   "version": "3.7.12"
  }
 },
 "nbformat": 4,
 "nbformat_minor": 5
}
